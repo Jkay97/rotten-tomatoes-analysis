{
 "cells": [
  {
   "cell_type": "markdown",
   "id": "41f16bf7",
   "metadata": {},
   "source": [
    "# MS5114 Group Project - Group 16 \"Binary Brigade\" - Sentimental Analysis\n",
    "\n",
    "### Business Use Case for Rotten Tomatoes: Enhancing User Experience and Engagement through Sentimental Analysis\n",
    " \n",
    "#### Business Context:\n",
    "Rotten Tomatoes, widely recognized for aggregating movie reviews and ratings, serves a dual audience of film enthusiasts and industry professionals. Viewers rely on the platform for guidance on what to watch, whereas filmmakers and studios look to the compiled scores to understand audience reactions and forecast potential revenue from ticket sales.\n",
    " \n",
    "#### Business Problem:\n",
    "Rotten Tomatoes encounters the difficulty of conveying the complexity of viewer emotions. The simplistic Fresh or Rotten ratings and collective user scores offer a numerical evaluation but miss qualitative depth. This shortfall might cause users to dismiss movies with mixed yet meaningful critiques and prevent industry experts from comprehensively understanding the audience's response.\n",
    " \n",
    " \n",
    "#### Text Classification Task:\n",
    "The text classification task at hand involves training a machine learning model on a large dataset of user reviews scraped from Rotten Tomatoes. The model will categorize each review as positive, neutral, or negative. This classification will be used to Aggregate sentiment scores for individual films, Create sentiment-based review summaries for quick user assessment, Segment user reviews according to sentiment to facilitate easier browsing and analysis."
   ]
  },
  {
   "cell_type": "code",
   "execution_count": 13,
   "id": "fe00779b",
   "metadata": {},
   "outputs": [],
   "source": [
    "# Import necessary libraries\n",
    "from nltk.corpus import PlaintextCorpusReader  # For reading the corpus\n",
    "from sklearn.feature_extraction.text import CountVectorizer  # For text vectorization\n",
    "from sklearn.metrics import pairwise_distances  # For calculating pairwise distances\n",
    "import seaborn as sns  # For creating visualizations\n",
    "import requests  # For making HTTP requests\n",
    "from bs4 import BeautifulSoup  # For parsing HTML\n",
    "import pandas as pd  # For data manipulation and analysis\n",
    "\n",
    "import matplotlib.pyplot as plt  # For plotting"
   ]
  },
  {
   "cell_type": "markdown",
   "id": "538bd910",
   "metadata": {},
   "source": [
    "We have selected 100 movies for review analysis."
   ]
  },
  {
   "cell_type": "code",
   "execution_count": 38,
   "id": "0aa32501",
   "metadata": {},
   "outputs": [],
   "source": [
    "urls = [\n",
    "    'https://www.rottentomatoes.com/m/ouija_origin_of_evil/reviews?type=user&intcmp=rt-scorecard_audience-score-reviews',\n",
    "    'https://www.rottentomatoes.com/m/malignant_2021/reviews?type=user',\n",
    "    'https://www.rottentomatoes.com/m/bird_box/reviews?type=user&intcmp=rt-scorecard_audience-score-reviews',\n",
    "    'https://www.rottentomatoes.com/m/the_rental_2020/reviews?type=user&intcmp=rt-scorecard_audience-score-reviews',\n",
    "    'https://www.rottentomatoes.com/m/im_thinking_of_ending_things/reviews?type=user&intcmp=rt-scorecard_audience-score-reviews',\n",
    "    'https://www.rottentomatoes.com/m/cam/reviews?type=user&intcmp=rt-scorecard_audience-score-reviews',\n",
    "    'https://www.rottentomatoes.com/m/apostle_2018/reviews?type=user&intcmp=rt-scorecard_audience-score-reviews',\n",
    "    'https://www.rottentomatoes.com/m/1922_2017/reviews?type=user&intcmp=rt-scorecard_audience-score-reviews',\n",
    "    'https://www.rottentomatoes.com/m/deliver_us_from_evil_2014/reviews?type=user&intcmp=rt-scorecard_audience-score-reviews',\n",
    "    'https://www.rottentomatoes.com/m/white_noise_2022/reviews?type=user&intcmp=rt-scorecard_audience-score-reviews',\n",
    "    'https://www.rottentomatoes.com/m/the_first_purge/reviews?type=user&intcmp=rt-scorecard_audience-score-reviews',\n",
    "    'https://www.rottentomatoes.com/m/annabelle/reviews?type=user&intcmp=rt-scorecard_audience-score-reviews',\n",
    "    'https://www.rottentomatoes.com/m/nightmare_on_elm_street_2010/reviews?type=user&intcmp=rt-scorecard_audience-score-reviews',\n",
    "    'https://www.rottentomatoes.com/m/split_2017/reviews?type=user&intcmp=rt-scorecard_audience-score-reviews',\n",
    "    'https://www.rottentomatoes.com/m/the_autopsy_of_jane_doe/reviews?type=user&intcmp=rt-scorecard_audience-score-reviews',\n",
    "    'https://www.rottentomatoes.com/m/it_follows/reviews?type=user&intcmp=rt-scorecard_audience-score-reviews',\n",
    "    'https://www.rottentomatoes.com/m/the_babadook/reviews?type=user&intcmp=rt-scorecard_audience-score-reviews',\n",
    "    'https://www.rottentomatoes.com/m/insidious/reviews?type=user&intcmp=rt-scorecard_audience-score-reviews',\n",
    "    'https://www.rottentomatoes.com/m/it_2017/reviews?type=user&intcmp=rt-scorecard_audience-score-reviews',\n",
    "    'https://www.rottentomatoes.com/m/nightmare_on_elm_street/reviews?type=user&intcmp=rt-scorecard_audience-score-reviews',\n",
    "    'https://www.rottentomatoes.com/m/scary_stories_to_tell_in_the_dark/reviews?type=verified_audience&intcmp=rt-scorecard_audience-score-reviews',\n",
    "    'https://www.rottentomatoes.com/m/resident_evil/reviews?type=user&intcmp=rt-scorecard_audience-score-reviews',\n",
    "    'https://www.rottentomatoes.com/m/wes_cravens_new_nightmare/reviews?type=user&intcmp=rt-scorecard_audience-score-reviews',\n",
    "    'https://www.rottentomatoes.com/m/fear_street_part_one_1994/reviews?type=user&intcmp=rt-scorecard_audience-score-reviews',\n",
    "    'https://www.rottentomatoes.com/m/death_note_2017/reviews?type=user&intcmp=rt-scorecard_audience-score-reviews'\n",
    ",'https://www.rottentomatoes.com/m/heart_of_the_hunter/reviews?type=user&intcmp=rt-scorecard_audience-score-reviews',\n",
    "'https://www.rottentomatoes.com/m/rebel_moon_part_1_a_child_of_fire/reviews?type=user&intcmp=rt-scorecard_audience-score-reviews',\n",
    "'https://www.rottentomatoes.com/m/mortal_engines/reviews?type=user&intcmp=rt-scorecard_audience-score-reviews',\n",
    "'https://www.rottentomatoes.com/m/lift_2024/reviews?type=user&intcmp=rt-scorecard_audience-score-reviews',\n",
    "'https://www.rottentomatoes.com/m/the_kitchen_2023/reviews?type=user&intcmp=rt-scorecard_audience-score-reviews',\n",
    "'https://www.rottentomatoes.com/m/the_stranger_2022/reviews?type=user&intcmp=rt-scorecard_audience-score-reviews',\n",
    "'https://www.rottentomatoes.com/m/triple_frontier/reviews?type=user&intcmp=rt-scorecard_audience-score-reviews',\n",
    "'https://www.rottentomatoes.com/m/godzilla_2014/reviews?type=user&intcmp=rt-scorecard_audience-score-reviews',\n",
    "'https://www.rottentomatoes.com/m/damsel_2023/reviews?type=user&intcmp=rt-scorecard_audience-score-reviews',\n",
    "'https://www.rottentomatoes.com/m/ghostbusters_2016/reviews?type=user&intcmp=rt-scorecard_audience-score-reviews',\n",
    "'https://www.rottentomatoes.com/m/drive_away_dolls/reviews?type=verified_audience&intcmp=rt-scorecard_audience-score-reviews',\n",
    "'https://www.rottentomatoes.com/m/the_matrix_resurrections/reviews?type=verified_audience&intcmp=rt-scorecard_audience-score-reviews',\n",
    "'https://www.rottentomatoes.com/m/king_kong/reviews?type=user&intcmp=rt-scorecard_audience-score-reviews',\n",
    "'https://www.rottentomatoes.com/m/the_northman/reviews?type=verified_audience&intcmp=rt-scorecard_audience-score-reviews',\n",
    "'https://www.rottentomatoes.com/m/the_vault_2021/reviews?type=user&intcmp=rt-scorecard_audience-score-reviews',\n",
    "'https://www.rottentomatoes.com/m/iss/reviews?type=verified_audience&intcmp=rt-scorecard_audience-score-reviews',\n",
    "'https://www.rottentomatoes.com/m/geostorm/reviews?type=user&intcmp=rt-scorecard_audience-score-reviews',\n",
    "'https://www.rottentomatoes.com/m/captain_marvel/reviews?type=user&intcmp=rt-scorecard_audience-score-reviews',\n",
    "'https://www.rottentomatoes.com/m/pirates_of_the_caribbean_dead_men_tell_no_tales/reviews?type=user&intcmp=rt-scorecard_audience-score-reviews',\n",
    "'https://www.rottentomatoes.com/m/the_bricklayer_2023/reviews?type=user&intcmp=rt-scorecard_audience-score-reviews',\n",
    "'https://www.rottentomatoes.com/m/suicide_squad_2016/reviews?type=user&intcmp=rt-scorecard_audience-score-reviews',\n",
    "'https://www.rottentomatoes.com/m/maze_runner_the_scorch_trials/reviews?type=user&intcmp=rt-scorecard_audience-score-reviews',\n",
    "'https://www.rottentomatoes.com/m/last_seen_alive/reviews?type=user&intcmp=rt-scorecard_audience-score-reviews',\n",
    "'https://www.rottentomatoes.com/m/57_seconds/reviews?type=user&intcmp=rt-scorecard_audience-score-reviews',\n",
    "'https://www.rottentomatoes.com/m/heart_of_stone_2023/reviews?type=user&intcmp=rt-scorecard_audience-score-reviews'\n",
    ",'https://www.rottentomatoes.com/m/the_beast_2023/reviews?type=user',\n",
    "'https://www.rottentomatoes.com/m/someone_like_you_2024/reviews?type=user',\n",
    "'https://www.rottentomatoes.com/m/musica/reviews?type=user',\n",
    "'https://www.rottentomatoes.com/m/the_greatest_hits/reviews?type=user',\n",
    "'https://www.rottentomatoes.com/m/a_fragile_flower/reviews?type=user',\n",
    "'https://www.rottentomatoes.com/m/poor_things/reviews?type=user',\n",
    "'https://www.rottentomatoes.com/m/glitter_and_doom/reviews?type=user',\n",
    "'https://www.rottentomatoes.com/m/with_love_and_a_major_organ',\n",
    "'https://www.rottentomatoes.com/m/the_tearsmith/reviews?type=user',\n",
    "'https://www.rottentomatoes.com/m/anyone_but_you_2023/reviews?type=user',\n",
    "'https://www.rottentomatoes.com/m/365_days_2020/reviews?type=user',\n",
    "'https://www.rottentomatoes.com/m/asteroid_city/reviews?type=user',\n",
    "'https://www.rottentomatoes.com/m/upgraded/reviews?type=user',\n",
    "'https://www.rottentomatoes.com/m/one_day_2014/reviews?type=user',\n",
    "'https://www.rottentomatoes.com/m/the_oath_2023/reviews?type=user',\n",
    "'https://www.rottentomatoes.com/m/original_sin/reviews?type=user',\n",
    "'https://www.rottentomatoes.com/m/the_american_society_of_magical_negroes/reviews?type=user',\n",
    "'https://www.rottentomatoes.com/m/ricky_stanicky/reviews?type=user',\n",
    "'https://www.rottentomatoes.com/m/lousy_carter/reviews?type=user',\n",
    "'https://www.rottentomatoes.com/m/next_goal_wins_2023/reviews?type=user',\n",
    "'https://www.rottentomatoes.com/m/drive_away_dolls/reviews?type=user',\n",
    "'https://www.rottentomatoes.com/m/lift_2024/reviews?type=user',\n",
    "'https://www.rottentomatoes.com/m/asteroid_city/reviews?type=user',\n",
    "'https://www.rottentomatoes.com/m/please_dont_destroy_the_treasure_of_foggy_mountain/reviews?type=user',\n",
    "'https://www.rottentomatoes.com/m/she_came_to_me/reviews?type=user',\n",
    "    'https://www.rottentomatoes.com/m/road_house/reviews?type=user&intcmp=rt-scorecard_audience-score-reviews',\n",
    "    'https://www.rottentomatoes.com/m/damsel_2023/reviews?type=user&intcmp=rt-scorecard_audience-score-reviews',\n",
    "    'https://www.rottentomatoes.com/tv/3_body_problem/s01/reviews?type=user',\n",
    "    'https://www.rottentomatoes.com/m/luca_2021/reviews?type=user',\n",
    "    'https://www.rottentomatoes.com/m/migration_2023/reviews?type=user',\n",
    "    'https://www.rottentomatoes.com/m/they_shot_the_piano_player/reviews?type=user',\n",
    "    'https://www.rottentomatoes.com/m/the_peasants/reviews?type=user',\n",
    "    'https://www.rottentomatoes.com/m/cabrini/reviews?type=user',\n",
    "    'https://www.rottentomatoes.com/m/family_star/reviews?type=user',\n",
    "    'https://www.rottentomatoes.com/m/green_fish/reviews?type=user',\n",
    "    'https://www.rottentomatoes.com/m/asphalt_city/reviews?type=user',\n",
    "    'https://www.rottentomatoes.com/m/a_fragile_flower/reviews?type=user',\n",
    "    'https://www.rottentomatoes.com/m/the_sweet_east/reviews?type=user',\n",
    "    'https://www.rottentomatoes.com/m/the_american_society_of_magical_negroes/reviews?type=user',\n",
    "    'https://www.rottentomatoes.com/m/coup_de_chance_2023/reviews?type=user',\n",
    "    'https://www.rottentomatoes.com/m/kung_fu_panda_4/reviews?type=user',\n",
    "    'https://www.rottentomatoes.com/m/yolo/reviews?type=user',\n",
    "    'https://www.rottentomatoes.com/m/do_not_expect_too_much_from_the_end_of_the_world/reviews?type=user',\n",
    "    'https://www.rottentomatoes.com/m/household_saints/reviews?type=user',\n",
    "    'https://www.rottentomatoes.com/m/crew_2024/reviews?type=user',\n",
    "    'https://www.rottentomatoes.com/m/ghostbusters_frozen_empire/reviews?type=user',\n",
    "    'https://www.rottentomatoes.com/m/light_2024/reviews?type=user',\n",
    "    'https://www.rottentomatoes.com/m/immaculate_2024/reviews?type=user',\n",
    "    'https://www.rottentomatoes.com/m/madame_web/reviews?type=user',\n",
    "    'https://www.rottentomatoes.com/m/musica/reviews?type=user',\n",
    "    'https://www.rottentomatoes.com/m/a_cats_life/reviews?type=user',\n",
    "    'https://www.rottentomatoes.com/m/arthur_the_king/reviews?type=user'\n",
    "    \n",
    "]"
   ]
  },
  {
   "cell_type": "markdown",
   "id": "3c4c4997",
   "metadata": {},
   "source": [
    "## Count the URLs\n",
    "In this code, len(urls) is used to determine the number of URLs in the urls list, and the result is stored in the variable count_urls."
   ]
  },
  {
   "cell_type": "code",
   "execution_count": 34,
   "id": "b6346055",
   "metadata": {},
   "outputs": [
    {
     "data": {
      "text/plain": [
       "102"
      ]
     },
     "execution_count": 34,
     "metadata": {},
     "output_type": "execute_result"
    }
   ],
   "source": [
    "# Count the number of URLs in the 'urls' list\n",
    "count_urls = len(urls)\n",
    "\n",
    "# Print the count of URLs\n",
    "count_urls"
   ]
  },
  {
   "cell_type": "markdown",
   "id": "957b3370",
   "metadata": {},
   "source": [
    "# Web Scrapping\n",
    "\n",
    "\n",
    "This code scrapes movie reviews from Rotten Tomatoes URLs using requests for HTTP requests and BeautifulSoup for HTML parsing. It defines a list of URLs to scrape, iterates through each URL, extracts review information such as review text, date, reviewer name, and review score from the HTML content, and stores this information in a list of dictionaries. It then creates a pandas DataFrame from the list of dictionaries and saves it to a CSV file. The scraping process is completed once all URLs are processed, and a message indicating the completion is printed.\n"
   ]
  },
  {
   "cell_type": "code",
   "execution_count": 35,
   "id": "62576120",
   "metadata": {},
   "outputs": [
    {
     "name": "stdout",
     "output_type": "stream",
     "text": [
      "Scraping completed and data saved to rottentomatoes_reviews.csv\n"
     ]
    }
   ],
   "source": [
    "import requests  # For making HTTP requests\n",
    "from bs4 import BeautifulSoup  # For parsing HTML\n",
    "\n",
    "# List of URLs to scrape\n",
    "# urls = [\n",
    "#     'https://www.rottentomatoes.com/m/road_house/reviews?type=user&intcmp=rt-scorecard_audience-score-reviews',\n",
    "#     'https://www.rottentomatoes.com/m/damsel_2023/reviews?type=user&intcmp=rt-scorecard_audience-score-reviews',\n",
    "#     'https://www.rottentomatoes.com/tv/3_body_problem/s01/reviews?type=user',\n",
    "# ]\n",
    "\n",
    "reviews_data = []  # Initialize an empty list to store review data\n",
    "\n",
    "# Iterate through each URL in the 'urls' list\n",
    "for url in urls:\n",
    "    # Send a GET request to the URL\n",
    "    response = requests.get(url)\n",
    "    \n",
    "    # Parse the HTML content of the response using BeautifulSoup\n",
    "    soup = BeautifulSoup(response.content, 'html.parser')\n",
    "    \n",
    "    # Extract the title from the URL\n",
    "    title = url.split('/')[4] if '/m/' in url else url.split('/')[2] \n",
    "    \n",
    "    # Find all review containers on the page\n",
    "    review_containers = soup.find_all(\"div\", class_=\"audience-review-row\")\n",
    "    \n",
    "    # Iterate through each review container\n",
    "    for container in review_containers:\n",
    "        # Initialize a dictionary to store review information\n",
    "        review = {\n",
    "            'title': title,\n",
    "            'review_text': \"Review not found\",\n",
    "            'review_date': \"Date not found\",\n",
    "            'reviewer_name': \"Reviewer not found\",\n",
    "            'review_score': 0,  \n",
    "        }\n",
    "        \n",
    "        # Extract review text if available\n",
    "        review_element = container.find(\"p\", class_=\"audience-reviews__review js-review-text\")\n",
    "        if review_element:\n",
    "            review['review_text'] = review_element.get_text(strip=True)\n",
    "        \n",
    "        # Extract review date if available\n",
    "        date_element = container.find(\"span\", class_=\"audience-reviews__duration\")\n",
    "        if date_element:\n",
    "            review['review_date'] = date_element.get_text(strip=True)\n",
    "        \n",
    "        # Extract reviewer name if available\n",
    "        name_element = container.find(\"a\", class_=\"audience-reviews__name\")\n",
    "        if name_element:\n",
    "            review['reviewer_name'] = name_element.get_text(strip=True)\n",
    "        \n",
    "        # Extract review score based on filled stars\n",
    "        score_element = container.find(\"span\", class_=\"star-display\")\n",
    "        if score_element:\n",
    "            filled_stars = score_element.find_all(\"span\", class_=\"star-display__filled\")\n",
    "            review['review_score'] = len(filled_stars)  # Count of filled stars represents the score\n",
    "        \n",
    "        # Append the review dictionary to the list of reviews\n",
    "        reviews_data.append(review)\n",
    "\n",
    "# Create a DataFrame from the list of reviews\n",
    "df_reviews = pd.DataFrame(reviews_data)\n",
    "\n",
    "# Save the DataFrame to a CSV file\n",
    "df_reviews.to_csv('rottentomatoes_reviews.csv', index=False)\n",
    "\n",
    "# Print a message indicating that the scraping is completed\n",
    "print(\"Scraping completed and data saved to rottentomatoes_reviews.csv\")\n"
   ]
  },
  {
   "cell_type": "code",
   "execution_count": 14,
   "id": "0bca186b",
   "metadata": {},
   "outputs": [],
   "source": [
    "# storing the csv file data into the dataframe\n",
    "df = pd.read_csv(\"C:/Users/welcome/Downloads/rottentomatoes_reviews 1.csv\")"
   ]
  },
  {
   "cell_type": "code",
   "execution_count": 15,
   "id": "ebf07a5f",
   "metadata": {},
   "outputs": [],
   "source": [
    "# storing in df_reviews dataframe\n",
    "df_reviews= df"
   ]
  },
  {
   "cell_type": "code",
   "execution_count": 16,
   "id": "70bee1ee",
   "metadata": {},
   "outputs": [
    {
     "data": {
      "text/html": [
       "<div>\n",
       "<style scoped>\n",
       "    .dataframe tbody tr th:only-of-type {\n",
       "        vertical-align: middle;\n",
       "    }\n",
       "\n",
       "    .dataframe tbody tr th {\n",
       "        vertical-align: top;\n",
       "    }\n",
       "\n",
       "    .dataframe thead th {\n",
       "        text-align: right;\n",
       "    }\n",
       "</style>\n",
       "<table border=\"1\" class=\"dataframe\">\n",
       "  <thead>\n",
       "    <tr style=\"text-align: right;\">\n",
       "      <th></th>\n",
       "      <th>title</th>\n",
       "      <th>review_text</th>\n",
       "      <th>review_date</th>\n",
       "      <th>reviewer_name</th>\n",
       "      <th>review_score</th>\n",
       "    </tr>\n",
       "  </thead>\n",
       "  <tbody>\n",
       "    <tr>\n",
       "      <th>0</th>\n",
       "      <td>ouija_origin_of_evil</td>\n",
       "      <td>Good popcorn horror pic with a few funny momen...</td>\n",
       "      <td>Apr 3, 2024</td>\n",
       "      <td>Joshua F</td>\n",
       "      <td>3</td>\n",
       "    </tr>\n",
       "    <tr>\n",
       "      <th>1</th>\n",
       "      <td>ouija_origin_of_evil</td>\n",
       "      <td>This one was nice. Normally, horror movies can...</td>\n",
       "      <td>Apr 3, 2024</td>\n",
       "      <td>Jose Raul B</td>\n",
       "      <td>4</td>\n",
       "    </tr>\n",
       "    <tr>\n",
       "      <th>2</th>\n",
       "      <td>ouija_origin_of_evil</td>\n",
       "      <td>Dreadful rubbish. Not scary or fun to watch.</td>\n",
       "      <td>Mar 28, 2024</td>\n",
       "      <td>Colin R</td>\n",
       "      <td>2</td>\n",
       "    </tr>\n",
       "    <tr>\n",
       "      <th>3</th>\n",
       "      <td>ouija_origin_of_evil</td>\n",
       "      <td>I can't believe so many people didn't get it. ...</td>\n",
       "      <td>Mar 24, 2024</td>\n",
       "      <td>OLD B</td>\n",
       "      <td>5</td>\n",
       "    </tr>\n",
       "    <tr>\n",
       "      <th>4</th>\n",
       "      <td>ouija_origin_of_evil</td>\n",
       "      <td>It's great except for two things: it's too sim...</td>\n",
       "      <td>Feb 23, 2024</td>\n",
       "      <td>billybob 1</td>\n",
       "      <td>4</td>\n",
       "    </tr>\n",
       "    <tr>\n",
       "      <th>...</th>\n",
       "      <td>...</td>\n",
       "      <td>...</td>\n",
       "      <td>...</td>\n",
       "      <td>...</td>\n",
       "      <td>...</td>\n",
       "    </tr>\n",
       "    <tr>\n",
       "      <th>1822</th>\n",
       "      <td>arthur_the_king</td>\n",
       "      <td>Nice,  feel good story. Enjoyed the movie.</td>\n",
       "      <td>Apr 6, 2024</td>\n",
       "      <td>Reviewer not found</td>\n",
       "      <td>4</td>\n",
       "    </tr>\n",
       "    <tr>\n",
       "      <th>1823</th>\n",
       "      <td>arthur_the_king</td>\n",
       "      <td>What a refreshing story considering the times ...</td>\n",
       "      <td>Apr 6, 2024</td>\n",
       "      <td>Brian C</td>\n",
       "      <td>5</td>\n",
       "    </tr>\n",
       "    <tr>\n",
       "      <th>1824</th>\n",
       "      <td>arthur_the_king</td>\n",
       "      <td>A heartwarming story.</td>\n",
       "      <td>Apr 6, 2024</td>\n",
       "      <td>Reviewer not found</td>\n",
       "      <td>4</td>\n",
       "    </tr>\n",
       "    <tr>\n",
       "      <th>1825</th>\n",
       "      <td>arthur_the_king</td>\n",
       "      <td>Great story, just a wonderful movie for everyo...</td>\n",
       "      <td>Apr 6, 2024</td>\n",
       "      <td>Reviewer not found</td>\n",
       "      <td>5</td>\n",
       "    </tr>\n",
       "    <tr>\n",
       "      <th>1826</th>\n",
       "      <td>arthur_the_king</td>\n",
       "      <td>Liked the story and that it was based on a rea...</td>\n",
       "      <td>Apr 6, 2024</td>\n",
       "      <td>Reviewer not found</td>\n",
       "      <td>5</td>\n",
       "    </tr>\n",
       "  </tbody>\n",
       "</table>\n",
       "<p>1827 rows × 5 columns</p>\n",
       "</div>"
      ],
      "text/plain": [
       "                     title                                        review_text  \\\n",
       "0     ouija_origin_of_evil  Good popcorn horror pic with a few funny momen...   \n",
       "1     ouija_origin_of_evil  This one was nice. Normally, horror movies can...   \n",
       "2     ouija_origin_of_evil       Dreadful rubbish. Not scary or fun to watch.   \n",
       "3     ouija_origin_of_evil  I can't believe so many people didn't get it. ...   \n",
       "4     ouija_origin_of_evil  It's great except for two things: it's too sim...   \n",
       "...                    ...                                                ...   \n",
       "1822       arthur_the_king         Nice,  feel good story. Enjoyed the movie.   \n",
       "1823       arthur_the_king  What a refreshing story considering the times ...   \n",
       "1824       arthur_the_king                              A heartwarming story.   \n",
       "1825       arthur_the_king  Great story, just a wonderful movie for everyo...   \n",
       "1826       arthur_the_king  Liked the story and that it was based on a rea...   \n",
       "\n",
       "       review_date       reviewer_name  review_score  \n",
       "0      Apr 3, 2024            Joshua F             3  \n",
       "1      Apr 3, 2024         Jose Raul B             4  \n",
       "2     Mar 28, 2024             Colin R             2  \n",
       "3     Mar 24, 2024               OLD B             5  \n",
       "4     Feb 23, 2024          billybob 1             4  \n",
       "...            ...                 ...           ...  \n",
       "1822   Apr 6, 2024  Reviewer not found             4  \n",
       "1823   Apr 6, 2024             Brian C             5  \n",
       "1824   Apr 6, 2024  Reviewer not found             4  \n",
       "1825   Apr 6, 2024  Reviewer not found             5  \n",
       "1826   Apr 6, 2024  Reviewer not found             5  \n",
       "\n",
       "[1827 rows x 5 columns]"
      ]
     },
     "execution_count": 16,
     "metadata": {},
     "output_type": "execute_result"
    }
   ],
   "source": [
    "#printing the dataframe df_reviews\n",
    "df_reviews"
   ]
  },
  {
   "cell_type": "markdown",
   "id": "8e20e55b",
   "metadata": {},
   "source": [
    "The output displayed is a tabular representation of scraped movie reviews from Rotten Tomatoes, organized into a pandas DataFrame. Each row of the DataFrame corresponds to a single review and contains several columns: \"title\" for the movie or TV show title, \"review_text\" for the actual review content, \"review_date\" for the date of the review, \"reviewer_name\" for the reviewer's name (if available), and \"review_score\" for the rating given by the reviewer. The DataFrame provides a structured format for analyzing and exploring the reviews, allowing for further investigation into sentiment analysis, review trends, and reviewer demographics."
   ]
  },
  {
   "cell_type": "markdown",
   "id": "8cec6182",
   "metadata": {},
   "source": [
    "# Distribution of Review Scores\n",
    "\n",
    "This code uses the seaborn library to create a count plot, which displays the distribution of review scores from a DataFrame (df_reviews). The x-axis represents the review scores, while the y-axis represents the count of reviews for each score. The plot provides a visual summary of how reviews are distributed across different score categories, helping to understand the overall sentiment or opinion of reviewers"
   ]
  },
  {
   "cell_type": "code",
   "execution_count": 17,
   "id": "9e421124",
   "metadata": {},
   "outputs": [
    {
     "data": {
      "image/png": "[encoded data removed]",
      "text/plain": [
       "<Figure size 640x480 with 1 Axes>"
      ]
     },
     "metadata": {},
     "output_type": "display_data"
    }
   ],
   "source": [
    "# Create a count plot to visualize the distribution of review scores\n",
    "sns.countplot(x='review_score', data=df_reviews)\n",
    "\n",
    "# Add a title to the plot\n",
    "plt.title('Distribution of Review Scores')\n",
    "\n",
    "# Add labels to the x and y axes\n",
    "plt.xlabel('Review Score')\n",
    "plt.ylabel('Count')\n",
    "\n",
    "# Display the plot\n",
    "plt.show()\n"
   ]
  },
  {
   "cell_type": "markdown",
   "id": "b0eedaa5",
   "metadata": {},
   "source": [
    "The output presents the distribution of review scores extracted from the review pages of 100 movies. This analysis provides insights into the distribution of sentiments expressed by viewers, highlighting trends in audience reception and indicating the prevalence of positive, neutral, and negative opinions across the dataset."
   ]
  },
  {
   "cell_type": "markdown",
   "id": "475fa71d",
   "metadata": {},
   "source": [
    "# Mapping Review Scores to Sentiments\n",
    "\n",
    "This code defines a function called score_to_sentiment that takes a review score as input and returns a sentiment category ('Negative', 'Neutral', or 'Positive') based on the score. The function categorizes scores of 2 or lower as 'Negative', scores of 3 as 'Neutral', and scores above 3 as 'Positive'.\n",
    "\n",
    "The function is then applied to the 'review_score' column of the df_reviews DataFrame using the apply method. The result is stored in a new column called 'sentiment', which contains the sentiment category corresponding to each review score."
   ]
  },
  {
   "cell_type": "code",
   "execution_count": 20,
   "id": "4651c880",
   "metadata": {},
   "outputs": [],
   "source": [
    "# Define a function to convert review scores to sentiment categories\n",
    "def score_to_sentiment(score):\n",
    "    if score <= 2:\n",
    "        return 'Negative'\n",
    "    elif score == 3:\n",
    "        return 'Neutral'\n",
    "    else:\n",
    "        return 'Positive'\n",
    "\n",
    "# Apply the score_to_sentiment function to create a new 'sentiment' column in the DataFrame\n",
    "df_reviews['sentiment'] = df_reviews['review_score'].apply(score_to_sentiment)\n"
   ]
  },
  {
   "cell_type": "code",
   "execution_count": 19,
   "id": "95220e31",
   "metadata": {},
   "outputs": [
    {
     "data": {
      "image/png": "[encoded data removed]",
      "text/plain": [
       "<Figure size 640x480 with 1 Axes>"
      ]
     },
     "metadata": {},
     "output_type": "display_data"
    }
   ],
   "source": [
    "# Create a count plot to visualize the distribution of sentiments\n",
    "sns.countplot(x='sentiment', data=df_reviews, order=['Negative', 'Neutral', 'Positive'])\n",
    "\n",
    "# Add a title to the plot\n",
    "plt.title('Distribution of Sentiments')\n",
    "\n",
    "# Add labels to the x and y axes\n",
    "plt.xlabel('Sentiment')\n",
    "plt.ylabel('Count')\n",
    "\n",
    "# Display the plot\n",
    "plt.show()"
   ]
  },
  {
   "cell_type": "markdown",
   "id": "53153eb0",
   "metadata": {},
   "source": [
    "This analysis reveals a skewed distribution of sentiments in the movie reviews sourced from the URLs. With a predominant number of positive reviews, followed by a smaller proportion of negative and neutral reviews, the dataset reflects a trend towards positivity in audience sentiments."
   ]
  },
  {
   "cell_type": "markdown",
   "id": "8aab2fbc",
   "metadata": {},
   "source": [
    "# Review Length Analysis"
   ]
  },
  {
   "cell_type": "markdown",
   "id": "56bf9d34",
   "metadata": {},
   "source": [
    "In order to figure out wheather the length of review is impacting the score or not, we went ahead with check the lengh of review text"
   ]
  },
  {
   "cell_type": "code",
   "execution_count": 21,
   "id": "28cedd81",
   "metadata": {},
   "outputs": [
    {
     "data": {
      "image/png": "[encoded data removed]",
      "text/plain": [
       "<Figure size 640x480 with 1 Axes>"
      ]
     },
     "metadata": {},
     "output_type": "display_data"
    }
   ],
   "source": [
    "# Calculate the length of each review text and store it in a new column 'review_length'\n",
    "df_reviews['review_length'] = df_reviews['review_text'].apply(len)\n",
    "\n",
    "# Create a scatter plot to visualize the relationship between review score and review length\n",
    "sns.scatterplot(x='review_score', y='review_length', data=df_reviews)\n",
    "\n",
    "# Add a title to the plot\n",
    "plt.title('Review Score vs. Review Length')\n",
    "\n",
    "# Add labels to the x and y axes\n",
    "plt.xlabel('Review Score')\n",
    "plt.ylabel('Review Length')\n",
    "\n",
    "# Display the plot\n",
    "plt.show()"
   ]
  },
  {
   "cell_type": "markdown",
   "id": "570450fd",
   "metadata": {},
   "source": [
    "The above scatter plot shows the relationship between 'Review Score' on the x-axis and 'Review Length' on the y-axis. The data points are distributed across the plot, corresponding to the scores ranging from 0 to 5 and the lengths varying widely.\n",
    "\n",
    "Observations:\n",
    "\n",
    "There is a dense clustering of points at the lower end of the review length, suggesting many reviews are short irrespective of the score given.\n",
    "Across all scores, there are reviews with very long lengths, but they are fewer in number compared to short reviews.\n",
    "There doesn't seem to be a clear, strong correlation between review length and score; however, a minor observation could be that the very long reviews do not have very low scores (0 or 1), indicating that perhaps more effort (in terms of length) might correspond to a more moderate or positive review score."
   ]
  },
  {
   "cell_type": "code",
   "execution_count": 22,
   "id": "5fdf0cc7",
   "metadata": {},
   "outputs": [],
   "source": [
    "# Convert the 'review_date' column to datetime format\n",
    "df_reviews['review_date'] = pd.to_datetime(df_reviews['review_date'])"
   ]
  },
  {
   "cell_type": "code",
   "execution_count": 23,
   "id": "da1ce153",
   "metadata": {},
   "outputs": [
    {
     "data": {
      "text/html": [
       "<div>\n",
       "<style scoped>\n",
       "    .dataframe tbody tr th:only-of-type {\n",
       "        vertical-align: middle;\n",
       "    }\n",
       "\n",
       "    .dataframe tbody tr th {\n",
       "        vertical-align: top;\n",
       "    }\n",
       "\n",
       "    .dataframe thead th {\n",
       "        text-align: right;\n",
       "    }\n",
       "</style>\n",
       "<table border=\"1\" class=\"dataframe\">\n",
       "  <thead>\n",
       "    <tr style=\"text-align: right;\">\n",
       "      <th></th>\n",
       "      <th>title</th>\n",
       "      <th>review_text</th>\n",
       "      <th>review_date</th>\n",
       "      <th>reviewer_name</th>\n",
       "      <th>review_score</th>\n",
       "      <th>sentiment</th>\n",
       "      <th>review_length</th>\n",
       "    </tr>\n",
       "  </thead>\n",
       "  <tbody>\n",
       "    <tr>\n",
       "      <th>0</th>\n",
       "      <td>ouija_origin_of_evil</td>\n",
       "      <td>Good popcorn horror pic with a few funny momen...</td>\n",
       "      <td>2024-04-03</td>\n",
       "      <td>Joshua F</td>\n",
       "      <td>3</td>\n",
       "      <td>Neutral</td>\n",
       "      <td>97</td>\n",
       "    </tr>\n",
       "    <tr>\n",
       "      <th>1</th>\n",
       "      <td>ouija_origin_of_evil</td>\n",
       "      <td>This one was nice. Normally, horror movies can...</td>\n",
       "      <td>2024-04-03</td>\n",
       "      <td>Jose Raul B</td>\n",
       "      <td>4</td>\n",
       "      <td>Positive</td>\n",
       "      <td>163</td>\n",
       "    </tr>\n",
       "    <tr>\n",
       "      <th>2</th>\n",
       "      <td>ouija_origin_of_evil</td>\n",
       "      <td>Dreadful rubbish. Not scary or fun to watch.</td>\n",
       "      <td>2024-03-28</td>\n",
       "      <td>Colin R</td>\n",
       "      <td>2</td>\n",
       "      <td>Negative</td>\n",
       "      <td>44</td>\n",
       "    </tr>\n",
       "    <tr>\n",
       "      <th>3</th>\n",
       "      <td>ouija_origin_of_evil</td>\n",
       "      <td>I can't believe so many people didn't get it. ...</td>\n",
       "      <td>2024-03-24</td>\n",
       "      <td>OLD B</td>\n",
       "      <td>5</td>\n",
       "      <td>Positive</td>\n",
       "      <td>212</td>\n",
       "    </tr>\n",
       "    <tr>\n",
       "      <th>4</th>\n",
       "      <td>ouija_origin_of_evil</td>\n",
       "      <td>It's great except for two things: it's too sim...</td>\n",
       "      <td>2024-02-23</td>\n",
       "      <td>billybob 1</td>\n",
       "      <td>4</td>\n",
       "      <td>Positive</td>\n",
       "      <td>144</td>\n",
       "    </tr>\n",
       "    <tr>\n",
       "      <th>...</th>\n",
       "      <td>...</td>\n",
       "      <td>...</td>\n",
       "      <td>...</td>\n",
       "      <td>...</td>\n",
       "      <td>...</td>\n",
       "      <td>...</td>\n",
       "      <td>...</td>\n",
       "    </tr>\n",
       "    <tr>\n",
       "      <th>1822</th>\n",
       "      <td>arthur_the_king</td>\n",
       "      <td>Nice,  feel good story. Enjoyed the movie.</td>\n",
       "      <td>2024-04-06</td>\n",
       "      <td>Reviewer not found</td>\n",
       "      <td>4</td>\n",
       "      <td>Positive</td>\n",
       "      <td>42</td>\n",
       "    </tr>\n",
       "    <tr>\n",
       "      <th>1823</th>\n",
       "      <td>arthur_the_king</td>\n",
       "      <td>What a refreshing story considering the times ...</td>\n",
       "      <td>2024-04-06</td>\n",
       "      <td>Brian C</td>\n",
       "      <td>5</td>\n",
       "      <td>Positive</td>\n",
       "      <td>243</td>\n",
       "    </tr>\n",
       "    <tr>\n",
       "      <th>1824</th>\n",
       "      <td>arthur_the_king</td>\n",
       "      <td>A heartwarming story.</td>\n",
       "      <td>2024-04-06</td>\n",
       "      <td>Reviewer not found</td>\n",
       "      <td>4</td>\n",
       "      <td>Positive</td>\n",
       "      <td>21</td>\n",
       "    </tr>\n",
       "    <tr>\n",
       "      <th>1825</th>\n",
       "      <td>arthur_the_king</td>\n",
       "      <td>Great story, just a wonderful movie for everyo...</td>\n",
       "      <td>2024-04-06</td>\n",
       "      <td>Reviewer not found</td>\n",
       "      <td>5</td>\n",
       "      <td>Positive</td>\n",
       "      <td>56</td>\n",
       "    </tr>\n",
       "    <tr>\n",
       "      <th>1826</th>\n",
       "      <td>arthur_the_king</td>\n",
       "      <td>Liked the story and that it was based on a rea...</td>\n",
       "      <td>2024-04-06</td>\n",
       "      <td>Reviewer not found</td>\n",
       "      <td>5</td>\n",
       "      <td>Positive</td>\n",
       "      <td>343</td>\n",
       "    </tr>\n",
       "  </tbody>\n",
       "</table>\n",
       "<p>1827 rows × 7 columns</p>\n",
       "</div>"
      ],
      "text/plain": [
       "                     title                                        review_text  \\\n",
       "0     ouija_origin_of_evil  Good popcorn horror pic with a few funny momen...   \n",
       "1     ouija_origin_of_evil  This one was nice. Normally, horror movies can...   \n",
       "2     ouija_origin_of_evil       Dreadful rubbish. Not scary or fun to watch.   \n",
       "3     ouija_origin_of_evil  I can't believe so many people didn't get it. ...   \n",
       "4     ouija_origin_of_evil  It's great except for two things: it's too sim...   \n",
       "...                    ...                                                ...   \n",
       "1822       arthur_the_king         Nice,  feel good story. Enjoyed the movie.   \n",
       "1823       arthur_the_king  What a refreshing story considering the times ...   \n",
       "1824       arthur_the_king                              A heartwarming story.   \n",
       "1825       arthur_the_king  Great story, just a wonderful movie for everyo...   \n",
       "1826       arthur_the_king  Liked the story and that it was based on a rea...   \n",
       "\n",
       "     review_date       reviewer_name  review_score sentiment  review_length  \n",
       "0     2024-04-03            Joshua F             3   Neutral             97  \n",
       "1     2024-04-03         Jose Raul B             4  Positive            163  \n",
       "2     2024-03-28             Colin R             2  Negative             44  \n",
       "3     2024-03-24               OLD B             5  Positive            212  \n",
       "4     2024-02-23          billybob 1             4  Positive            144  \n",
       "...          ...                 ...           ...       ...            ...  \n",
       "1822  2024-04-06  Reviewer not found             4  Positive             42  \n",
       "1823  2024-04-06             Brian C             5  Positive            243  \n",
       "1824  2024-04-06  Reviewer not found             4  Positive             21  \n",
       "1825  2024-04-06  Reviewer not found             5  Positive             56  \n",
       "1826  2024-04-06  Reviewer not found             5  Positive            343  \n",
       "\n",
       "[1827 rows x 7 columns]"
      ]
     },
     "execution_count": 23,
     "metadata": {},
     "output_type": "execute_result"
    }
   ],
   "source": [
    "df_reviews"
   ]
  },
  {
   "cell_type": "markdown",
   "id": "bb0ae912",
   "metadata": {},
   "source": [
    "# Preprocessing the Review Text\n",
    "\n",
    "This code defines a function preprocess_text that preprocesses text data by converting it to lowercase, removing non-word characters, URLs, HTML tags, punctuation, newline characters, and words containing numbers. The function is then applied to the 'review_text' column of the df_reviews DataFrame to preprocess the text data in that column."
   ]
  },
  {
   "cell_type": "code",
   "execution_count": 24,
   "id": "529ea662",
   "metadata": {},
   "outputs": [],
   "source": [
    "import re  # Import the regular expression module\n",
    "import string  # Import the string module\n",
    "\n",
    "# Define a function to preprocess text data\n",
    "def preprocess_text(text):\n",
    "    text = text.lower()  # Convert text to lowercase\n",
    "    text = re.sub('\\\\W', ' ', text)  # Remove all non-word characters\n",
    "    text = re.sub('https?://\\S+|www\\.\\S+', '', text)  # Remove URLs\n",
    "    text = re.sub('<.*?>+', '', text)  # Remove HTML tags\n",
    "    text = re.sub('[%s]' % re.escape(string.punctuation), '', text)  # Remove punctuation\n",
    "    text = re.sub('\\n', '', text)  # Remove newline characters\n",
    "    text = re.sub('\\w*\\d\\w*', '', text)  # Remove words containing numbers\n",
    "    return text\n",
    "\n",
    "# Apply the preprocess_text function to the 'review_text' column of the DataFrame\n",
    "df_reviews['review_text'] = df_reviews['review_text'].apply(preprocess_text)"
   ]
  },
  {
   "cell_type": "markdown",
   "id": "c9c75659",
   "metadata": {},
   "source": [
    "# Converting Text to Features\n",
    "\n",
    "This code imports the TfidfVectorizer class from the sklearn.feature_extraction.text module to convert text data into a TF-IDF matrix. It creates an instance of TfidfVectorizer, fits and transforms the 'review_text' column of the DataFrame to create the TF-IDF matrix X, and assigns the 'sentiment' column of the DataFrame to y."
   ]
  },
  {
   "cell_type": "code",
   "execution_count": 25,
   "id": "7b5ac819",
   "metadata": {},
   "outputs": [],
   "source": [
    "from sklearn.feature_extraction.text import TfidfVectorizer  # Import the TF-IDF vectorizer\n",
    "\n",
    "# Create an instance of the TfidfVectorizer\n",
    "vectorizer = TfidfVectorizer()\n",
    "\n",
    "# Fit and transform the 'review_text' column of the DataFrame to create the TF-IDF matrix X\n",
    "X = vectorizer.fit_transform(df_reviews['review_text'])\n",
    "\n",
    "# Assign the 'sentiment' column of the DataFrame to y\n",
    "y = df_reviews['sentiment']"
   ]
  },
  {
   "cell_type": "markdown",
   "id": "09d35aea",
   "metadata": {},
   "source": [
    "# Splitting the Data\n"
   ]
  },
  {
   "cell_type": "code",
   "execution_count": 26,
   "id": "ae8a27bf",
   "metadata": {},
   "outputs": [],
   "source": [
    "from sklearn.model_selection import train_test_split  # Import the train_test_split function\n",
    "\n",
    "# Split the data into training and testing sets\n",
    "# X_train and y_train are the training features and labels, respectively\n",
    "# X_test and y_test are the testing features and labels, respectively\n",
    "# The test_size parameter specifies the proportion of the dataset to include in the test split (here, 20%)\n",
    "# The random_state parameter ensures reproducibility of the split\n",
    "X_train, X_test, y_train, y_test = train_test_split(X, y, test_size=0.2, random_state=42)\n"
   ]
  },
  {
   "cell_type": "markdown",
   "id": "29ca9dd5",
   "metadata": {},
   "source": [
    "# Model Building"
   ]
  },
  {
   "cell_type": "markdown",
   "id": "b7be2ed8",
   "metadata": {},
   "source": [
    "# 1. Logistic Regression"
   ]
  },
  {
   "cell_type": "markdown",
   "id": "d3973bde",
   "metadata": {},
   "source": [
    "# Training a Model\n",
    "\n",
    "This code imports the LogisticRegression class from sklearn.linear_model and creates an instance of the logistic regression model (lr) with specified parameters (max_iter=1000 and n_jobs=-1). The model is then fitted to the training data (X_train and y_train). The max_iter parameter specifies the maximum number of iterations for the solver to converge, and n_jobs specifies the number of CPU cores to use (-1 uses all available cores)."
   ]
  },
  {
   "cell_type": "code",
   "execution_count": 27,
   "id": "d44a0c08",
   "metadata": {},
   "outputs": [
    {
     "data": {
      "text/html": [
       "<style>#sk-container-id-1 {color: black;}#sk-container-id-1 pre{padding: 0;}#sk-container-id-1 div.sk-toggleable {background-color: white;}#sk-container-id-1 label.sk-toggleable__label {cursor: pointer;display: block;width: 100%;margin-bottom: 0;padding: 0.3em;box-sizing: border-box;text-align: center;}#sk-container-id-1 label.sk-toggleable__label-arrow:before {content: \"▸\";float: left;margin-right: 0.25em;color: #696969;}#sk-container-id-1 label.sk-toggleable__label-arrow:hover:before {color: black;}#sk-container-id-1 div.sk-estimator:hover label.sk-toggleable__label-arrow:before {color: black;}#sk-container-id-1 div.sk-toggleable__content {max-height: 0;max-width: 0;overflow: hidden;text-align: left;background-color: #f0f8ff;}#sk-container-id-1 div.sk-toggleable__content pre {margin: 0.2em;color: black;border-radius: 0.25em;background-color: #f0f8ff;}#sk-container-id-1 input.sk-toggleable__control:checked~div.sk-toggleable__content {max-height: 200px;max-width: 100%;overflow: auto;}#sk-container-id-1 input.sk-toggleable__control:checked~label.sk-toggleable__label-arrow:before {content: \"▾\";}#sk-container-id-1 div.sk-estimator input.sk-toggleable__control:checked~label.sk-toggleable__label {background-color: #d4ebff;}#sk-container-id-1 div.sk-label input.sk-toggleable__control:checked~label.sk-toggleable__label {background-color: #d4ebff;}#sk-container-id-1 input.sk-hidden--visually {border: 0;clip: rect(1px 1px 1px 1px);clip: rect(1px, 1px, 1px, 1px);height: 1px;margin: -1px;overflow: hidden;padding: 0;position: absolute;width: 1px;}#sk-container-id-1 div.sk-estimator {font-family: monospace;background-color: #f0f8ff;border: 1px dotted black;border-radius: 0.25em;box-sizing: border-box;margin-bottom: 0.5em;}#sk-container-id-1 div.sk-estimator:hover {background-color: #d4ebff;}#sk-container-id-1 div.sk-parallel-item::after {content: \"\";width: 100%;border-bottom: 1px solid gray;flex-grow: 1;}#sk-container-id-1 div.sk-label:hover label.sk-toggleable__label {background-color: #d4ebff;}#sk-container-id-1 div.sk-serial::before {content: \"\";position: absolute;border-left: 1px solid gray;box-sizing: border-box;top: 0;bottom: 0;left: 50%;z-index: 0;}#sk-container-id-1 div.sk-serial {display: flex;flex-direction: column;align-items: center;background-color: white;padding-right: 0.2em;padding-left: 0.2em;position: relative;}#sk-container-id-1 div.sk-item {position: relative;z-index: 1;}#sk-container-id-1 div.sk-parallel {display: flex;align-items: stretch;justify-content: center;background-color: white;position: relative;}#sk-container-id-1 div.sk-item::before, #sk-container-id-1 div.sk-parallel-item::before {content: \"\";position: absolute;border-left: 1px solid gray;box-sizing: border-box;top: 0;bottom: 0;left: 50%;z-index: -1;}#sk-container-id-1 div.sk-parallel-item {display: flex;flex-direction: column;z-index: 1;position: relative;background-color: white;}#sk-container-id-1 div.sk-parallel-item:first-child::after {align-self: flex-end;width: 50%;}#sk-container-id-1 div.sk-parallel-item:last-child::after {align-self: flex-start;width: 50%;}#sk-container-id-1 div.sk-parallel-item:only-child::after {width: 0;}#sk-container-id-1 div.sk-dashed-wrapped {border: 1px dashed gray;margin: 0 0.4em 0.5em 0.4em;box-sizing: border-box;padding-bottom: 0.4em;background-color: white;}#sk-container-id-1 div.sk-label label {font-family: monospace;font-weight: bold;display: inline-block;line-height: 1.2em;}#sk-container-id-1 div.sk-label-container {text-align: center;}#sk-container-id-1 div.sk-container {/* jupyter's `normalize.less` sets `[hidden] { display: none; }` but bootstrap.min.css set `[hidden] { display: none !important; }` so we also need the `!important` here to be able to override the default hidden behavior on the sphinx rendered scikit-learn.org. See: https://github.com/scikit-learn/scikit-learn/issues/21755 */display: inline-block !important;position: relative;}#sk-container-id-1 div.sk-text-repr-fallback {display: none;}</style><div id=\"sk-container-id-1\" class=\"sk-top-container\"><div class=\"sk-text-repr-fallback\"><pre>LogisticRegression(max_iter=1000, n_jobs=-1)</pre><b>In a Jupyter environment, please rerun this cell to show the HTML representation or trust the notebook. <br />On GitHub, the HTML representation is unable to render, please try loading this page with nbviewer.org.</b></div><div class=\"sk-container\" hidden><div class=\"sk-item\"><div class=\"sk-estimator sk-toggleable\"><input class=\"sk-toggleable__control sk-hidden--visually\" id=\"sk-estimator-id-1\" type=\"checkbox\" checked><label for=\"sk-estimator-id-1\" class=\"sk-toggleable__label sk-toggleable__label-arrow\">LogisticRegression</label><div class=\"sk-toggleable__content\"><pre>LogisticRegression(max_iter=1000, n_jobs=-1)</pre></div></div></div></div></div>"
      ],
      "text/plain": [
       "LogisticRegression(max_iter=1000, n_jobs=-1)"
      ]
     },
     "execution_count": 27,
     "metadata": {},
     "output_type": "execute_result"
    }
   ],
   "source": [
    "from sklearn.linear_model import LogisticRegression\n",
    "\n",
    "lr = LogisticRegression(max_iter=1000, n_jobs=-1) \n",
    "lr.fit(X_train, y_train)\n"
   ]
  },
  {
   "cell_type": "markdown",
   "id": "fd23f927",
   "metadata": {},
   "source": [
    "The output indicates a logistic regression model is created with a maximum of 1000 iterations for convergence and utilizing all available CPU cores for training."
   ]
  },
  {
   "cell_type": "markdown",
   "id": "23644463",
   "metadata": {},
   "source": [
    "# Making Predictions and Evaluating the Model\n",
    "\n",
    "Here we calculate the accuracy of the Logistic Regression model (lr) on the test set (X_test, y_test) using the accuracy_score function from sklearn.metrics and prints the result. It also generates a classification report using the classification_report function and prints it to evaluate the model's performance in terms of precision, recall, and F1-score for each class."
   ]
  },
  {
   "cell_type": "code",
   "execution_count": 28,
   "id": "7942bfa0",
   "metadata": {},
   "outputs": [
    {
     "name": "stdout",
     "output_type": "stream",
     "text": [
      "Accuracy: 0.7158469945355191\n",
      "Classification Report:\n",
      "              precision    recall  f1-score   support\n",
      "\n",
      "    Negative       0.73      0.77      0.75       127\n",
      "     Neutral       0.45      0.15      0.22        62\n",
      "    Positive       0.73      0.88      0.80       177\n",
      "\n",
      "    accuracy                           0.72       366\n",
      "   macro avg       0.64      0.60      0.59       366\n",
      "weighted avg       0.68      0.72      0.68       366\n",
      "\n"
     ]
    }
   ],
   "source": [
    "# Import necessary libraries\n",
    "from sklearn.metrics import accuracy_score, classification_report  # For evaluating model performance\n",
    "\n",
    "# Make predictions using the trained Logistic Regression model\n",
    "pred_lr = lr.predict(X_test)\n",
    "\n",
    "# Calculate and print the accuracy of the model\n",
    "print(\"Accuracy:\", accuracy_score(y_test, pred_lr))\n",
    "\n",
    "# Generate and print a classification report for the model\n",
    "print(\"Classification Report:\")\n",
    "print(classification_report(y_test, pred_lr))\n"
   ]
  },
  {
   "cell_type": "markdown",
   "id": "ee5363fb",
   "metadata": {},
   "source": [
    "-- Accuracy \n",
    "\n",
    "Accuracy (0.72): The model correctly predicts the sentiment of approximately 72% of the reviews in your test set. This is a solid starting point, indicating that the model has learned to a reasonable extent to differentiate between sentiments based on review texts.\n",
    "\n",
    "-- Precision\n",
    "\n",
    "Negative (0.73): When the model predicts a review to be negative, it is correct 73% of the time.\n",
    "Neutral (0.45): When the model predicts a review to be neutral, it is correct 45% of the time, suggesting it struggles more with identifying neutral sentiments accurately.\n",
    "Positive (0.73): When the model predicts a review to be positive, it is correct 73% of the time, showing a similar precision to negative predictions.\n",
    "\n",
    "-- Recall\n",
    "\n",
    "Negative (0.77): Of all the actual negative reviews, the model correctly identifies 77% of them as negative.\n",
    "Neutral (0.15): The model only correctly identifies 15% of the actual neutral reviews, indicating it often misclassifies neutral reviews as either positive or negative.\n",
    "Positive (0.88): The model is quite effective at identifying positive reviews, correctly classifying 88% of all actual positive reviews.\n",
    "\n",
    "-- F1-Score\n",
    "\n",
    "This is the harmonic mean of precision and recall, providing a single metric to evaluate the balance between them. Higher F1-scores indicate better balanced precision and recall.\n",
    "Negative (0.75) and Positive (0.80) have higher F1-scores, showing the model performs relatively well on these sentiments. However, the Neutral (0.22) F1-score is significantly lower, highlighting the model's difficulty in handling neutral sentiments effectively.\n",
    "\n",
    "-- Interpretation for Rotten Tomatoes\n",
    "\n",
    "The model is quite proficient at identifying positive and negative sentiments, with a decent balance between precision and recall, indicated by the F1-scores. This suggests it can be useful for filtering out clearly positive and negative reviews.\n",
    "\n",
    "The low recall and F1-score for neutral reviews indicate a challenge. The model tends to confuse neutral sentiment with either positive or negative, which could be due to the inherent ambiguity of neutral language or a lack of distinguishing features in the text.\n",
    "\n",
    "The overall accuracy suggests that the model is a good starting point for automated sentiment analysis of movie reviews on Rotten Tomatoes. However, improvements are needed, especially in accurately identifying neutral sentiments and possibly reducing false positives/negatives for a more balanced prediction across all sentiment classes.\n"
   ]
  },
  {
   "cell_type": "code",
   "execution_count": 29,
   "id": "74aa21b5",
   "metadata": {},
   "outputs": [
    {
     "data": {
      "image/png": "[encoded data removed]",
      "text/plain": [
       "<Figure size 640x480 with 2 Axes>"
      ]
     },
     "metadata": {},
     "output_type": "display_data"
    }
   ],
   "source": [
    "# Import necessary libraries\n",
    "from sklearn.metrics import ConfusionMatrixDisplay  # For displaying confusion matrix\n",
    "import matplotlib.pyplot as plt  # For plotting\n",
    "\n",
    "# Create confusion matrix display from predictions\n",
    "conf_matrix_display = ConfusionMatrixDisplay.from_predictions(y_test, pred_lr)\n",
    "\n",
    "# Display the confusion matrix plot\n",
    "plt.show()"
   ]
  },
  {
   "cell_type": "markdown",
   "id": "5ef8da8f",
   "metadata": {},
   "source": [
    "The confusion matrix is explaining the performance of a classification model used to predict sentiment labels (Negative, Neutral, and Positive) for a set of data. The matrix is organized with the true labels (actual sentiment) on the Y-axis (rows) and the predicted labels (sentiment predicted by the model) on the X-axis (columns). Here's what the values indicate:\n",
    "\n",
    "1.True Positives (TP): The cells on the diagonal from top left to bottom right (98, 9, 155) represent the number of predictions that were correct. For example, there were 155 instances where the model correctly predicted the positive sentiment.\n",
    "\n",
    "2.False Negatives (FN): Cells below the diagonal represent instances where the model incorrectly predicted a negative sentiment when the actual sentiment was more positive. For example, there were 14 instances where the model predicted negative instead of the true positive sentiment.\n",
    "\n",
    "3.False Positives (FP): Cells above the diagonal represent instances where the model incorrectly predicted a positive sentiment when the actual sentiment was more negative. For example, there were 26 instances where the model predicted positive instead of the true negative sentiment.\n",
    "\n",
    "4.True Negatives (TN): While not directly shown in a multi-class confusion matrix, true negatives for a given class in such a setup would be the sum of all cells not in the row or column for that class.\n",
    "\n",
    "In summary, the confusion matrix provides a detailed account of the model's predictions:\n",
    "\n",
    "1.Negative Sentiment: The model predicted negative sentiment correctly 98 times but mistakenly classified 3 as neutral and 26 as positive.\n",
    "\n",
    "2.Neutral Sentiment: The model correctly identified neutral sentiment 9 times, while 22 were wrongly classified as negative, and 31 as positive.\n",
    "\n",
    "3.Positive Sentiment: The model was successful in predicting positive sentiment 155 times, but 14 were misclassified as negative and 8 as neutral.\n",
    "\n",
    "This breakdown allows the model's developers to assess not just overall accuracy but also to delve deeper into how the model behaves for each category, potentially guiding improvements to the model or to the data preprocessing steps. has context menu Compose"
   ]
  },
  {
   "cell_type": "markdown",
   "id": "ba5680e9",
   "metadata": {},
   "source": [
    "# 2.XG boost Classifier\n",
    "\n",
    "This code snippet first imports the LabelEncoder class from the sklearn.preprocessing module, which is used to encode the categorical sentiment labels into integers. This encoding is necessary for the XGBoost classifier, as it requires numerical inputs. The fit_transform method is used to fit the encoder to the training labels (y_train) and transform them into encoded integers, stored in y_train_encoded. The transform method is then applied to the test labels (y_test) to ensure consistency in encoding.\n",
    "\n",
    "Next, the XGBClassifier class is imported from the xgboost library. An instance of the XGBClassifier is created with use_label_encoder=False to avoid warnings about the deprecated label encoder in XGBoost and eval_metric='mlogloss' to specify the evaluation metric as multi-class logarithmic loss. Finally, the classifier is trained using the fit method with the training features (X_train) and the encoded training labels (y_train_encoded)."
   ]
  },
  {
   "cell_type": "code",
   "execution_count": 30,
   "id": "6e1f0b3d",
   "metadata": {},
   "outputs": [],
   "source": [
    "from sklearn.preprocessing import LabelEncoder\n",
    "\n",
    "# Encode sentiment labels to integers for the XGB classifier\n",
    "label_encoder = LabelEncoder()\n",
    "y_train_encoded = label_encoder.fit_transform(y_train)\n",
    "y_test_encoded = label_encoder.transform(y_test)\n"
   ]
  },
  {
   "cell_type": "code",
   "execution_count": 31,
   "id": "c8e68817",
   "metadata": {},
   "outputs": [],
   "source": [
    "from xgboost import XGBClassifier  # Import XGBClassifier from the XGBoost library"
   ]
  },
  {
   "cell_type": "code",
   "execution_count": 32,
   "id": "6d17a7f1",
   "metadata": {},
   "outputs": [
    {
     "data": {
      "text/html": [
       "<style>#sk-container-id-2 {color: black;}#sk-container-id-2 pre{padding: 0;}#sk-container-id-2 div.sk-toggleable {background-color: white;}#sk-container-id-2 label.sk-toggleable__label {cursor: pointer;display: block;width: 100%;margin-bottom: 0;padding: 0.3em;box-sizing: border-box;text-align: center;}#sk-container-id-2 label.sk-toggleable__label-arrow:before {content: \"▸\";float: left;margin-right: 0.25em;color: #696969;}#sk-container-id-2 label.sk-toggleable__label-arrow:hover:before {color: black;}#sk-container-id-2 div.sk-estimator:hover label.sk-toggleable__label-arrow:before {color: black;}#sk-container-id-2 div.sk-toggleable__content {max-height: 0;max-width: 0;overflow: hidden;text-align: left;background-color: #f0f8ff;}#sk-container-id-2 div.sk-toggleable__content pre {margin: 0.2em;color: black;border-radius: 0.25em;background-color: #f0f8ff;}#sk-container-id-2 input.sk-toggleable__control:checked~div.sk-toggleable__content {max-height: 200px;max-width: 100%;overflow: auto;}#sk-container-id-2 input.sk-toggleable__control:checked~label.sk-toggleable__label-arrow:before {content: \"▾\";}#sk-container-id-2 div.sk-estimator input.sk-toggleable__control:checked~label.sk-toggleable__label {background-color: #d4ebff;}#sk-container-id-2 div.sk-label input.sk-toggleable__control:checked~label.sk-toggleable__label {background-color: #d4ebff;}#sk-container-id-2 input.sk-hidden--visually {border: 0;clip: rect(1px 1px 1px 1px);clip: rect(1px, 1px, 1px, 1px);height: 1px;margin: -1px;overflow: hidden;padding: 0;position: absolute;width: 1px;}#sk-container-id-2 div.sk-estimator {font-family: monospace;background-color: #f0f8ff;border: 1px dotted black;border-radius: 0.25em;box-sizing: border-box;margin-bottom: 0.5em;}#sk-container-id-2 div.sk-estimator:hover {background-color: #d4ebff;}#sk-container-id-2 div.sk-parallel-item::after {content: \"\";width: 100%;border-bottom: 1px solid gray;flex-grow: 1;}#sk-container-id-2 div.sk-label:hover label.sk-toggleable__label {background-color: #d4ebff;}#sk-container-id-2 div.sk-serial::before {content: \"\";position: absolute;border-left: 1px solid gray;box-sizing: border-box;top: 0;bottom: 0;left: 50%;z-index: 0;}#sk-container-id-2 div.sk-serial {display: flex;flex-direction: column;align-items: center;background-color: white;padding-right: 0.2em;padding-left: 0.2em;position: relative;}#sk-container-id-2 div.sk-item {position: relative;z-index: 1;}#sk-container-id-2 div.sk-parallel {display: flex;align-items: stretch;justify-content: center;background-color: white;position: relative;}#sk-container-id-2 div.sk-item::before, #sk-container-id-2 div.sk-parallel-item::before {content: \"\";position: absolute;border-left: 1px solid gray;box-sizing: border-box;top: 0;bottom: 0;left: 50%;z-index: -1;}#sk-container-id-2 div.sk-parallel-item {display: flex;flex-direction: column;z-index: 1;position: relative;background-color: white;}#sk-container-id-2 div.sk-parallel-item:first-child::after {align-self: flex-end;width: 50%;}#sk-container-id-2 div.sk-parallel-item:last-child::after {align-self: flex-start;width: 50%;}#sk-container-id-2 div.sk-parallel-item:only-child::after {width: 0;}#sk-container-id-2 div.sk-dashed-wrapped {border: 1px dashed gray;margin: 0 0.4em 0.5em 0.4em;box-sizing: border-box;padding-bottom: 0.4em;background-color: white;}#sk-container-id-2 div.sk-label label {font-family: monospace;font-weight: bold;display: inline-block;line-height: 1.2em;}#sk-container-id-2 div.sk-label-container {text-align: center;}#sk-container-id-2 div.sk-container {/* jupyter's `normalize.less` sets `[hidden] { display: none; }` but bootstrap.min.css set `[hidden] { display: none !important; }` so we also need the `!important` here to be able to override the default hidden behavior on the sphinx rendered scikit-learn.org. See: https://github.com/scikit-learn/scikit-learn/issues/21755 */display: inline-block !important;position: relative;}#sk-container-id-2 div.sk-text-repr-fallback {display: none;}</style><div id=\"sk-container-id-2\" class=\"sk-top-container\"><div class=\"sk-text-repr-fallback\"><pre>XGBClassifier(base_score=None, booster=None, callbacks=None,\n",
       "              colsample_bylevel=None, colsample_bynode=None,\n",
       "              colsample_bytree=None, device=None, early_stopping_rounds=None,\n",
       "              enable_categorical=False, eval_metric=&#x27;mlogloss&#x27;,\n",
       "              feature_types=None, gamma=None, grow_policy=None,\n",
       "              importance_type=None, interaction_constraints=None,\n",
       "              learning_rate=None, max_bin=None, max_cat_threshold=None,\n",
       "              max_cat_to_onehot=None, max_delta_step=None, max_depth=None,\n",
       "              max_leaves=None, min_child_weight=None, missing=nan,\n",
       "              monotone_constraints=None, multi_strategy=None, n_estimators=None,\n",
       "              n_jobs=None, num_parallel_tree=None, objective=&#x27;multi:softprob&#x27;, ...)</pre><b>In a Jupyter environment, please rerun this cell to show the HTML representation or trust the notebook. <br />On GitHub, the HTML representation is unable to render, please try loading this page with nbviewer.org.</b></div><div class=\"sk-container\" hidden><div class=\"sk-item\"><div class=\"sk-estimator sk-toggleable\"><input class=\"sk-toggleable__control sk-hidden--visually\" id=\"sk-estimator-id-2\" type=\"checkbox\" checked><label for=\"sk-estimator-id-2\" class=\"sk-toggleable__label sk-toggleable__label-arrow\">XGBClassifier</label><div class=\"sk-toggleable__content\"><pre>XGBClassifier(base_score=None, booster=None, callbacks=None,\n",
       "              colsample_bylevel=None, colsample_bynode=None,\n",
       "              colsample_bytree=None, device=None, early_stopping_rounds=None,\n",
       "              enable_categorical=False, eval_metric=&#x27;mlogloss&#x27;,\n",
       "              feature_types=None, gamma=None, grow_policy=None,\n",
       "              importance_type=None, interaction_constraints=None,\n",
       "              learning_rate=None, max_bin=None, max_cat_threshold=None,\n",
       "              max_cat_to_onehot=None, max_delta_step=None, max_depth=None,\n",
       "              max_leaves=None, min_child_weight=None, missing=nan,\n",
       "              monotone_constraints=None, multi_strategy=None, n_estimators=None,\n",
       "              n_jobs=None, num_parallel_tree=None, objective=&#x27;multi:softprob&#x27;, ...)</pre></div></div></div></div></div>"
      ],
      "text/plain": [
       "XGBClassifier(base_score=None, booster=None, callbacks=None,\n",
       "              colsample_bylevel=None, colsample_bynode=None,\n",
       "              colsample_bytree=None, device=None, early_stopping_rounds=None,\n",
       "              enable_categorical=False, eval_metric='mlogloss',\n",
       "              feature_types=None, gamma=None, grow_policy=None,\n",
       "              importance_type=None, interaction_constraints=None,\n",
       "              learning_rate=None, max_bin=None, max_cat_threshold=None,\n",
       "              max_cat_to_onehot=None, max_delta_step=None, max_depth=None,\n",
       "              max_leaves=None, min_child_weight=None, missing=nan,\n",
       "              monotone_constraints=None, multi_strategy=None, n_estimators=None,\n",
       "              n_jobs=None, num_parallel_tree=None, objective='multi:softprob', ...)"
      ]
     },
     "execution_count": 32,
     "metadata": {},
     "output_type": "execute_result"
    }
   ],
   "source": [
    "# Training the XGB Classifier with corrected labels\n",
    "xgb_corrected = XGBClassifier(use_label_encoder=False, eval_metric='mlogloss')\n",
    "xgb_corrected.fit(X_train, y_train_encoded)\n"
   ]
  },
  {
   "cell_type": "markdown",
   "id": "51b82353",
   "metadata": {},
   "source": [
    "The output displays the parameters and their current settings for an XGBoost classifier (XGBClassifier). XGBoost is a popular machine learning library known for its efficiency and effectiveness in handling various machine learning tasks, particularly in the realm of gradient boosting. The parameters shown include settings related to the model's architecture (e.g., booster, num_boost_round, num_parallel_tree), regularization (gamma, lambda), learning rate (eta), and objective function (objective). Each parameter plays a role in controlling the behavior of the XGBoost model during training and can be tuned to optimize model performance for specific tasks and datasets."
   ]
  },
  {
   "cell_type": "code",
   "execution_count": 33,
   "id": "a709e50e",
   "metadata": {},
   "outputs": [],
   "source": [
    "from sklearn.metrics import accuracy_score, ConfusionMatrixDisplay\n",
    "\n",
    "# Predict on the test set with XGBoost\n",
    "pred_xgb_encoded_test = xgb_corrected.predict(X_test)"
   ]
  },
  {
   "cell_type": "code",
   "execution_count": 34,
   "id": "65eb46fe",
   "metadata": {},
   "outputs": [],
   "source": [
    "# Decode the predictions\n",
    "pred_xgb_test = label_encoder.inverse_transform(pred_xgb_encoded_test)"
   ]
  },
  {
   "cell_type": "code",
   "execution_count": 35,
   "id": "d35054bd",
   "metadata": {},
   "outputs": [
    {
     "name": "stdout",
     "output_type": "stream",
     "text": [
      "Accuracy of XGBoost classifier: 0.6967213114754098\n"
     ]
    }
   ],
   "source": [
    "# Calculate accuracy\n",
    "accuracy_xgb_test = accuracy_score(y_test, pred_xgb_test)\n",
    "print(f'Accuracy of XGBoost classifier: {accuracy_xgb_test}')"
   ]
  },
  {
   "cell_type": "markdown",
   "id": "f9d012ce",
   "metadata": {},
   "source": [
    "This output indicates that the accuracy of the XGBoost classifier on the test dataset is approximately 0.697, which means that it correctly predicted the sentiment labels for about 69.7% of the movie reviews in the test dataset."
   ]
  },
  {
   "cell_type": "code",
   "execution_count": 36,
   "id": "07cb4228",
   "metadata": {},
   "outputs": [
    {
     "data": {
      "image/png": "[encoded data removed]",
      "text/plain": [
       "<Figure size 640x480 with 2 Axes>"
      ]
     },
     "metadata": {},
     "output_type": "display_data"
    }
   ],
   "source": [
    "# Display confusion matrix\n",
    "ConfusionMatrixDisplay.from_predictions(y_test, pred_xgb_test)\n",
    "plt.show()"
   ]
  },
  {
   "cell_type": "markdown",
   "id": "ef4a8e99",
   "metadata": {},
   "source": [
    "This is the confusion matrix that's generated from predictions made by an XGBoost classifier, and it visualizes the performance of the model in classifying sentiments into three categories: Negative, Neutral, and Positive.\n",
    " \n",
    "Here's what the matrix is displaying:\n",
    " \n",
    "- **Rows (True Label):** Each row represents the actual classes as they are in the test data (`y_test`). From top to bottom, the rows correspond to Negative, Neutral, and Positive sentiments.\n",
    "- **Columns (Predicted Label):** Each column represents the classes as predicted by the XGBoost model (`pred_xgb_test`). From left to right, the columns correspond to Negative, Neutral, and Positive predictions.\n",
    "- **Cells (Counts):** Each cell contains the number of observations. For example, the model predicted 93 instances as Negative, which were actually Negative (True Negative). The cell with 141 indicates the number of instances that were actually Positive and predicted as Positive (True Positive).\n",
    "- **Off-Diagonal Cells (Misclassifications):** The off-diagonal cells indicate where the model made incorrect predictions. For instance, there were 17 instances that were actually Positive but were incorrectly predicted as Negative (False Negative).\n",
    "- **Color Intensity:** The intensity of the color corresponds to the number of observations, with darker colors indicating higher numbers. This is typically used to quickly identify which classes are being confused.\n",
    " \n",
    "From the confusion matrix, we can make several observations about the model performance:\n",
    " \n",
    "- The model is relatively strong at identifying Positive sentiment correctly.\n",
    "- There's some confusion between Neutral and Negative classes, as well as Neutral and Positive.\n",
    "- The model seems to struggle more with correctly identifying Neutral sentiment, as indicated by the relatively balanced misclassifications across Negative and Positive predictions for the actual Neutral class.\n",
    " \n",
    "The calculated accuracy from the code snippet (`accuracy_xgb_test`) quantifies the overall performance of the model, but the confusion matrix gives a more detailed view into how the model performs for each individual class."
   ]
  },
  {
   "cell_type": "markdown",
   "id": "9a3c9568",
   "metadata": {},
   "source": [
    "# Manual Testing\n",
    "\n",
    "This function manual_testing_combined(review) takes a single movie review as input and processes it to predict sentiment labels using two different models, Logistic Regression and XGBoost. It first preprocesses the input review and converts it into a TF-IDF vector. It then uses the Logistic Regression model (lr) to predict the sentiment label for the review. Additionally, it employs the XGBoost model (xgb_corrected) to make a prediction, using the TF-IDF vector, and decodes the predicted label using label_encoder. The function returns both the predicted sentiment label from Logistic Regression (pred_lr_label) and the predicted sentiment label from XGBoost (pred_xgb_label) for the input review, allowing for manual testing and comparison of the two models' performance on individual reviews."
   ]
  },
  {
   "cell_type": "code",
   "execution_count": 37,
   "id": "02e16030",
   "metadata": {},
   "outputs": [],
   "source": [
    "def manual_testing_combined(review):\n",
    "    # Preprocess the review text\n",
    "    processed_review = preprocess_text(review)\n",
    "    \n",
    "    # Convert the processed review into a TF-IDF vector\n",
    "    review_vector = vectorizer.transform([processed_review])\n",
    "    \n",
    "    # Predict sentiment using Logistic Regression\n",
    "    pred_lr_label = lr.predict(review_vector)[0]\n",
    "    \n",
    "    # Predict sentiment using XGBoost (ensure to use encoded labels for prediction and decode them)\n",
    "    pred_xgb_encoded = xgb_corrected.predict(review_vector)\n",
    "    pred_xgb_label = label_encoder.inverse_transform(pred_xgb_encoded)[0]\n",
    "    \n",
    "    return pred_lr_label, pred_xgb_label\n"
   ]
  },
  {
   "cell_type": "code",
   "execution_count": 38,
   "id": "75a2d6d3",
   "metadata": {},
   "outputs": [
    {
     "name": "stdout",
     "output_type": "stream",
     "text": [
      "Review: 'An incredible movie with a unique plot and stunning performances.'\n",
      "Predicted Sentiment (LR): Positive\n",
      "Predicted Sentiment (XGB): Negative\n",
      "\n",
      "Review: 'A total waste of time, the story was dull and the acting was mediocre.'\n",
      "Predicted Sentiment (LR): Negative\n",
      "Predicted Sentiment (XGB): Negative\n",
      "\n",
      "Review: 'It was okay, some parts were entertaining but it could have been better.'\n",
      "Predicted Sentiment (LR): Neutral\n",
      "Predicted Sentiment (XGB): Neutral\n",
      "\n"
     ]
    }
   ],
   "source": [
    "example_reviews = [\n",
    "    \"An incredible movie with a unique plot and stunning performances.\",\n",
    "    \"A total waste of time, the story was dull and the acting was mediocre.\",\n",
    "    \"It was okay, some parts were entertaining but it could have been better.\"\n",
    "]\n",
    "\n",
    "for review in example_reviews:\n",
    "    pred_lr_label, pred_xgb_label = manual_testing_combined(review)\n",
    "    print(f\"Review: '{review}'\\nPredicted Sentiment (LR): {pred_lr_label}\\nPredicted Sentiment (XGB): {pred_xgb_label}\\n\")\n"
   ]
  },
  {
   "cell_type": "markdown",
   "id": "b0e3348c",
   "metadata": {},
   "source": [
    "This code demonstrates the use of the manual_testing_combined function to predict sentiment labels for three example movie reviews using both the Logistic Regression and XGBoost models. For each review, the function preprocesses the text, converts it into a TF-IDF vector, and then predicts the sentiment labels using both models. The predictions are printed along with the original review text.\n",
    "\n",
    "The output shows the predicted sentiment labels for each review from both models. The first review is predicted as positive by Logistic Regression but negative by XGBoost. The second review is correctly predicted as negative by both models. The third review, which is more neutral in sentiment, is correctly predicted as neutral by both models. This example demonstrates how different models can sometimes have different predictions for the same review, highlighting the importance of evaluating models using various metrics and datasets."
   ]
  },
  {
   "cell_type": "code",
   "execution_count": 41,
   "id": "e2052592",
   "metadata": {},
   "outputs": [],
   "source": [
    "import pickle\n",
    "# Save the fitted model to a pickle file\n",
    "with open('logistic_regression_model.pkl', 'wb') as file:     pickle.dump(lr, file) \n",
    "# Optionally, save the predictions to a pickle file\n",
    "with open('lr_predictions.pkl', 'wb') as file:     pickle.dump(pred_lr, file)"
   ]
  },
  {
   "cell_type": "markdown",
   "id": "1c17cf17",
   "metadata": {},
   "source": [
    "# Insights and Deployment\n",
    "\n",
    "The analysis and model developed provide Rotten Tomatoes with a better understanding of audience sentiment, beyond the binary Fresh or Rotten ratings. Here's how the process adds value and potential applications for Rotten Tomatoes:\n",
    "### Insights from the Analysis:\n",
    "1. **Review Score Distribution**: The initial count plot of review scores indicates a general trend in audience sentiment, which can inform marketing and promotional strategies for films.\n",
    " \n",
    "2. **Sentiment Distribution**: Mapping review scores to sentiments (Negative, Neutral, Positive) reveals a predominant positivity among users. This could suggest a skew in the user base or a trend in the types of users who are motivated to leave reviews.\n",
    " \n",
    "3. **Review Length vs. Score**: The scatter plot implies that while most reviews are short, longer reviews tend to be more positive. This can be valuable for understanding user engagement depth.\n",
    " \n",
    "4. **Model Performance**: The trained Logistic Regression and XGBoost classifiers serve as an initial step towards automated sentiment analysis. Although they require further improvement, particularly in identifying neutral sentiments, they represent a significant advancement over simple numerical scores.\n",
    "\n",
    "### Business Recommendations:\n",
    " \n",
    "1. **Enhanced User Experience**: Integrate sentiment analysis into the user interface to provide a richer, more detailed understanding of audience opinions. This could involve displaying not only the overall score but also a sentiment breakdown (e.g., \"60% positive, 20% neutral, 20% negative\").\n",
    " \n",
    "2. **Content Personalization**: Use sentiment analysis to personalize recommendations. Users could be recommended movies with predominantly positive sentiments or avoid those with negative sentiments based on their viewing history.\n",
    " \n",
    "3. **Industry Reporting**: Offer filmmakers and studios detailed reports on audience sentiment, which can help with adjusting marketing campaigns or even guiding future film projects.\n",
    " \n",
    "4. **Commentary and Critiques**: Utilize sentiment analysis in editorial content to highlight trends in user reviews for new releases or for retrospectives on classic films. \n",
    "Rotten Tomatoes can enrich its platform by using sentiment analysis to separate and communicate audience reviews in editorial content. For example, an editorial might highlight that despite a film's average score, sentiment analysis reveals viewers are thrilled by groundbreaking effects but disappointed by the slow narrative. This offers an understanding that numerical scores can't capture, informing readers and aiding decision-making.\n",
    " \n",
    "5. **Community Engagement**: Encourage users to write more detailed reviews by showing that longer, more thoughtful reviews are valued and highlighted through sentiment analysis.\n",
    " \n",
    "6. **Refinement and Expansion**: Continue refining the sentiment analysis models with more data over time and possibly incorporate aspects such as sarcasm detection, which can be prevalent in movie reviews.\n",
    "\n"
   ]
  }
 ],
 "metadata": {
  "kernelspec": {
   "display_name": "Python 3 (ipykernel)",
   "language": "python",
   "name": "python3"
  },
  "language_info": {
   "codemirror_mode": {
    "name": "ipython",
    "version": 3
   },
   "file_extension": ".py",
   "mimetype": "text/x-python",
   "name": "python",
   "nbconvert_exporter": "python",
   "pygments_lexer": "ipython3",
   "version": "3.11.5"
  }
 },
 "nbformat": 4,
 "nbformat_minor": 5
}
